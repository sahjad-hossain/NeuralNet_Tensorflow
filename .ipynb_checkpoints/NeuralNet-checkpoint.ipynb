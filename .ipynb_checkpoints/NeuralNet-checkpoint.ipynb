{
 "cells": [
  {
   "cell_type": "markdown",
   "metadata": {},
   "source": [
    "### For this exercise you need additional libraries\n",
    "\n",
    "use `pip install` to add the following packages to your system\n",
    "- tensorflow>=2.0\n",
    "- pandas"
   ]
  },
  {
   "cell_type": "code",
   "execution_count": null,
   "metadata": {},
   "outputs": [],
   "source": [
    "import os\n",
    "os.environ[\"CUDA_VISIBLE_DEVICES\"] = \"-1\"\n",
    "import matplotlib.pyplot as plt\n",
    "import pandas as pd\n",
    "from PIL import Image\n",
    "from io import BytesIO\n",
    "import base64\n",
    "import numpy as np\n",
    "from IPython.display import display, HTML\n",
    "import tensorflow as tf\n",
    "from tensorflow.keras.models import Sequential\n",
    "from tensorflow.keras.layers import Dense\n",
    "%matplotlib notebook\n"
   ]
  },
  {
   "cell_type": "markdown",
   "metadata": {},
   "source": [
    "# Neural Networks\n",
    "\n",
    "In this task you start implementing a Neural Network using Tensorflow. Since version 2.0 of tensorflow, Keras is part of it. For the following task please use tf.keras to create a network.\n",
    "\n",
    "- tf.keras.models.Sequential --> Allows you to create a sequential model\n",
    "- tf.keras.layers.Dense --> A fully connected layers (MLP) \n",
    "- Each dense layer should have `sigmoid` as activation function\n",
    "- A good starting point is the official documentation: https://www.tensorflow.org/api_docs/python/tf/keras/Sequential\n",
    "\n",
    "Create a model which is structures as follows:\n",
    "\n",
    "```_________________________________________________________________\n",
    "Layer (type)                 Output Shape              Param #   \n",
    "=================================================================\n",
    "dense (Dense)                (None, 512)               401920    \n",
    "_________________________________________________________________\n",
    "dense_1 (Dense)              (None, 512)               262656    \n",
    "_________________________________________________________________\n",
    "dense_2 (Dense)              (None, 10)                5130      \n",
    "=================================================================\n",
    "Total params: 669,706\n",
    "Trainable params: 669,706\n",
    "Non-trainable params: 0\n",
    "_________________________________________________________________\n",
    "```\n",
    "\n",
    "If you are done with the implementation you have to train your model. In detail you will find a step by step guide here: https://www.tensorflow.org/guide/keras/overview.\n",
    "For this task you have to use SGD as optimizer with a Momentum of 0.9 and a learning rate of 0.001. As loss function you have to use `sparse_categorical_crossentropy` and as metric during training to monitor, choose `accuracy`. Use x_train, y_train as training data and x_test, y_test as validation data! As last step you can train your model for 50 epochs and visualize the history object like below which you get as return value after model.fit is done.\n",
    "\n",
    "![](resources/history.png)\n",
    "\n",
    "\n",
    "Last but not least, below you have the black box where you can draw digits from 0 to 9 and use your already trained model to predict these drawn number. \n",
    "\n",
    "!!! IMPORTANT !!!\n",
    "<span style=\"color:red\">To work with the draw function below it's important that you name the variable which contains the tf.keras.model `model` otherwise the prediction wont work</span>\n",
    "\n",
    "Things to experiment with:\n",
    "- add some hidden layer or change the number of neurons\n",
    "- normalize your data that the values are in the range of -1 and 1 instead of 0 to 255\n",
    "- use tf.keras.optimizers.Adam instead of SGD\n",
    "- try to use ReLU instead of Sigmoid and Softmax as activation function for the last layer"
   ]
  },
  {
   "cell_type": "code",
   "execution_count": null,
   "metadata": {},
   "outputs": [],
   "source": [
    "display(HTML(filename='resources/draw.html'))"
   ]
  },
  {
   "cell_type": "code",
   "execution_count": null,
   "metadata": {},
   "outputs": [],
   "source": [
    "def normalize(data):\n",
    "    return (data / 255) * 2 - 1\n",
    "\n",
    "# this method requires a variable with name \"model\" of type tf.keras.model somewhere defined in the notebook\n",
    "# the method recives a base64 encoded image (the drawn image) from javascript and converts it into a Pil image\n",
    "# don't touch it! :)\n",
    "def predict(data, normalized=False):    \n",
    "    im = Image.open(BytesIO(base64.b64decode(data))).resize(source_shape)\n",
    "    im = np.array(im)[:,:,0].astype(np.float32) \n",
    "    \n",
    "    if normalized:\n",
    "        im = normalize(im)\n",
    "\n",
    "    if len(model.input_shape[1:]) == 1:\n",
    "        im = im.reshape(-1)\n",
    "        im = np.expand_dims(im, 0)\n",
    "    else:\n",
    "        im = np.expand_dims(np.expand_dims(im,2), 0)\n",
    "    res = model.predict(im)[0].argmax(-1)\n",
    "    \n",
    "    #print is required to inform javascript about the result\n",
    "    print(res)    \n",
    "    "
   ]
  },
  {
   "cell_type": "code",
   "execution_count": null,
   "metadata": {},
   "outputs": [],
   "source": [
    "model = tf.keras.models.load_model('example.hdf5')"
   ]
  },
  {
   "cell_type": "markdown",
   "metadata": {},
   "source": [
    "## Load MNIST dataset\n",
    "For our training we are using MNIST, a large database of handwritten digits. A sample how the data looks like is depicted below.\n",
    "\n",
    "<img src=\"resources/MnistExamples.png\" align=\"left\"/>"
   ]
  },
  {
   "cell_type": "code",
   "execution_count": null,
   "metadata": {},
   "outputs": [],
   "source": [
    "(x_train, y_train), (x_test, y_test) = tf.keras.datasets.mnist.load_data(path='mnist.npz')\n",
    "\n",
    "source_shape = x_train.shape[1:]\n",
    "x_train = x_train.reshape(x_train.shape[0], -1).astype(np.float32)\n",
    "x_test = x_test.reshape(x_test.shape[0], -1).astype(np.float32)"
   ]
  },
  {
   "cell_type": "code",
   "execution_count": null,
   "metadata": {},
   "outputs": [],
   "source": [
    "x_train = normalize(x_train)\n",
    "x_test =  normalize(x_test)"
   ]
  },
  {
   "cell_type": "markdown",
   "metadata": {},
   "source": [
    "## Implementation"
   ]
  },
  {
   "cell_type": "code",
   "execution_count": null,
   "metadata": {},
   "outputs": [],
   "source": [
    "model = Sequential()\n",
    "model.add(Dense(256, activation='relu', input_shape=(np.prod(x_train.shape[1:3]),)))\n",
    "model.add(Dense(512, activation='relu'))\n",
    "model.add(Dense(10, activation='softmax'))\n",
    "model.input"
   ]
  },
  {
   "cell_type": "code",
   "execution_count": null,
   "metadata": {},
   "outputs": [],
   "source": [
    "optimizer = tf.keras.optimizers.SGD(lr=.005, momentum=0.9)\n",
    "model.compile(loss='sparse_categorical_crossentropy', optimizer=optimizer, metrics=['accuracy'])"
   ]
  },
  {
   "cell_type": "code",
   "execution_count": null,
   "metadata": {
    "scrolled": false
   },
   "outputs": [],
   "source": [
    "hist = model.fit(x_train, y_train, epochs=50, validation_data=(x_test, y_test))"
   ]
  },
  {
   "cell_type": "code",
   "execution_count": null,
   "metadata": {},
   "outputs": [],
   "source": [
    "df = pd.DataFrame.from_dict(hist.history)\n",
    "\n",
    "plt.figure(figsize=(10,10))\n",
    "ax = plt.subplot(211)\n",
    "df.plot(y=\"loss\", ax=ax, title=\"Loss\")\n",
    "df.plot(y=\"val_loss\", ax=ax)\n",
    "\n",
    "ax = plt.subplot(212)\n",
    "df.plot(y=\"accuracy\", ax=ax, title=\"Accuracy\")\n",
    "df.plot(y=\"val_accuracy\", ax=ax)\n",
    "plt.tight_layout()"
   ]
  },
  {
   "cell_type": "code",
   "execution_count": null,
   "metadata": {},
   "outputs": [],
   "source": []
  }
 ],
 "metadata": {
  "kernelspec": {
   "display_name": "Python 3",
   "language": "python",
   "name": "python3"
  },
  "language_info": {
   "codemirror_mode": {
    "name": "ipython",
    "version": 3
   },
   "file_extension": ".py",
   "mimetype": "text/x-python",
   "name": "python",
   "nbconvert_exporter": "python",
   "pygments_lexer": "ipython3",
   "version": "3.9.6"
  },
  "toc": {
   "base_numbering": 1,
   "nav_menu": {},
   "number_sections": true,
   "sideBar": true,
   "skip_h1_title": false,
   "title_cell": "Table of Contents",
   "title_sidebar": "Contents",
   "toc_cell": false,
   "toc_position": {},
   "toc_section_display": true,
   "toc_window_display": false
  }
 },
 "nbformat": 4,
 "nbformat_minor": 2
}
